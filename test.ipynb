{
 "cells": [
  {
   "cell_type": "code",
   "execution_count": null,
   "metadata": {},
   "outputs": [],
   "source": [
    "'''\n",
    "*********************************\n",
    "***  Name: Truong Nhat Hoang  ***\n",
    "***  Student ID: 51703092     ***\n",
    "***  HMM POS Tagger           ***\n",
    "***  NLP - 504045             ***\n",
    "*********************************\n",
    "'''"
   ]
  },
  {
   "cell_type": "code",
   "execution_count": 31,
   "metadata": {},
   "outputs": [],
   "source": [
    "from utils import hmm_model\n",
    "from utils.data_loader import DataLoader\n",
    "from utils.hmm_model import HMMBasic"
   ]
  },
  {
   "cell_type": "code",
   "execution_count": 53,
   "metadata": {},
   "outputs": [
    {
     "name": "stdout",
     "output_type": "stream",
     "text": [
      " ./data/CR/CR08.POS\n",
      "All data is loaded!!\n"
     ]
    }
   ],
   "source": [
    "dloader = DataLoader('./data/')\n",
    "dloader.load()\n",
    "train_word = [j for i in dloader.data_train['label'] for j in i].__len__()\n",
    "test_word = [j for i in dloader.data_test['label'] for j in i].__len__()"
   ]
  },
  {
   "cell_type": "code",
   "execution_count": 54,
   "metadata": {},
   "outputs": [],
   "source": [
    "hmm_basic = HMMBasic()\n",
    "hmm_basic.train(dloader.data_train)\n",
    "score = hmm_basic.eval(dloader.data_test)"
   ]
  },
  {
   "cell_type": "code",
   "execution_count": 94,
   "metadata": {},
   "outputs": [],
   "source": [
    "emiss_prob = {\n",
    "    key: {\n",
    "        sub_key_val[0]: sub_key_val[1]\n",
    "        for sub_key_val in val\n",
    "    } \n",
    "    for key, val in hmm_basic.dict2_word_tag.items()\n",
    "}\n",
    "\n",
    "trans_prob = {\n",
    "    key: {\n",
    "        sub_key_val[0]: sub_key_val[1]\n",
    "        for sub_key_val in val\n",
    "    } \n",
    "    for key, val in hmm_basic.dict2_tag_follow_tag_.items()\n",
    "}"
   ]
  },
  {
   "cell_type": "code",
   "execution_count": 101,
   "metadata": {},
   "outputs": [],
   "source": [
    "set_type = set()\n",
    "for key in emiss_prob:\n",
    "    set_type.add(type(emiss_prob[key]))"
   ]
  },
  {
   "cell_type": "code",
   "execution_count": 109,
   "metadata": {},
   "outputs": [
    {
     "data": {
      "text/plain": [
       "0"
      ]
     },
     "execution_count": 109,
     "metadata": {},
     "output_type": "execute_result"
    }
   ],
   "source": [
    "emiss_prob.get('IN', 0)"
   ]
  },
  {
   "cell_type": "code",
   "execution_count": 48,
   "metadata": {},
   "outputs": [],
   "source": [
    "start_tag = dict()\n",
    "sum_all = 0\n",
    "for sen in dloader.processed_data:\n",
    "    sum_all += 1\n",
    "    start_tag[sen[0]['tag']] = start_tag.get(sen[0]['tag'], 0) + 1\n",
    "    \n",
    "start_tag = {key: val/sum_all for key, val in start_tag.items()}\n",
    "# start_tag = {key: start_tag[key] if key in start_tag else 0 for key in hmm_basic.train_li_tags}"
   ]
  },
  {
   "cell_type": "code",
   "execution_count": 171,
   "metadata": {},
   "outputs": [],
   "source": [
    "def viterbi(_obs, _states, _s_pro, _t_pro, _e_pro):\n",
    "    # init\n",
    "    path = {\n",
    "        s: list()\n",
    "        for s in _states\n",
    "    }\n",
    "    curr_pro = dict()\n",
    "    for s in _states:\n",
    "        curr_pro[s] = _s_pro.get(s, 1) * _e_pro.get(s, dict()).get(obs[0], 1)\n",
    "    for i in range(1, len(obs)):\n",
    "        last_pro = curr_pro\n",
    "        curr_pro = {}\n",
    "        for curr_state in _states:\n",
    "            max_pro, last_sta = max((((\n",
    "                        last_pro[last_state] \n",
    "                         * _t_pro.get(last_state, dict()).get(curr_state, 1) \n",
    "                         * _e_pro.get(curr_state, dict()).get(obs[i], 1)\n",
    "                    ),\n",
    "                    last_state\n",
    "                )\n",
    "                for last_state in _states\n",
    "            ), key=lambda x: x[0])\n",
    "            \n",
    "\n",
    "            curr_pro[curr_state] = max_pro\n",
    "            path[curr_state].append(last_sta)\n",
    "        print(curr_pro)\n",
    "\n",
    "    max_pro = -1\n",
    "    max_path = None\n",
    "    for s in _states:\n",
    "        path[s].append(s)\n",
    "        if curr_pro[s] > max_pro:\n",
    "            max_path = path[s]\n",
    "            max_pro = curr_pro[s]\n",
    "    return max_path"
   ]
  },
  {
   "cell_type": "code",
   "execution_count": 172,
   "metadata": {},
   "outputs": [
    {
     "data": {
      "text/plain": [
       "['IN', 'VBD', 'VBD', 'IN', 'NNP']"
      ]
     },
     "execution_count": 172,
     "metadata": {},
     "output_type": "execute_result"
    }
   ],
   "source": [
    "hmm_basic.train_li_tags[:5]"
   ]
  },
  {
   "cell_type": "code",
   "execution_count": 173,
   "metadata": {},
   "outputs": [
    {
     "name": "stdout",
     "output_type": "stream",
     "text": [
      "{'': 0.19361710294004758, 'EX': 0.018404083825900055, 'SYM': 0.1729484915943809, 'NNP|NPS': 0.19361710294004758, 'NNP': 0.025553201313836024, '.': 0.014738619789667614, 'PRP': 0.014122679292327711, 'VBG': 0.0035458811363409414, 'CD|NN|NP': 0.19361710294004758, 'JJ|RB': 0.19361710294004758, 'NN|VBG': 0.08591770937284102, 'NNP|NN': 0.19361710294004758, 'JJ': 0.04450031214132649, 'IN|RP': 0.19361710294004758, 'MD|VB': 0.19361710294004758, 'NN|SYM': 0.19361710294004758, 'TO': 0.006831964381668842, 'NNPS': 0.014738619789667614, 'PDT': 0.19361710294004758, 'NN|JJ': 0.1729484915943809, 'VBZ': 0.016453428682088378, 'WP|MD|NP': 0.19361710294004758, 'UH': 0.018404083825900055, 'DT|RB': 0.19361710294004758, 'VBG|NN': 0.1729484915943809, 'VBD': 0.05755498982567102, ',': 0.07522837184309511, 'RP|IN': 0.19361710294004758, 'CD|NNS': 0.19361710294004758, 'JJ|VBN': 0.19361710294004758, 'VB': 0.007091435733834779, 'CD': 0.014738619789667614, 'RP': 0.07522837184309511, 'CD|NN': 0.1729484915943809, 'RBR|NN': 0.19361710294004758, 'FW': 0.1729484915943809, 'PRP|VBP': 0.19361710294004758, 'JJSS': 0.1729484915943809, 'RBR': 0.016197129039686804, 'WP$': 0.07599600829047364, 'RBS|JJS': 0.19361710294004758, '``': 0.07522837184309511, 'LS': 0.19361710294004758, 'JJ|NP': 0.1729484915943809, 'NN|NNS': 0.19361710294004758, 'POS': 0.07522837184309511, 'CD|NP': 0.19361710294004758, 'RBS': 0.08591770937284102, 'RB|VBG': 0.19361710294004758, 'NNP|CC|NP': 0.19361710294004758, 'WP': 0.018404083825900055, 'JJ|VBG': 0.1729484915943809, 'JJS': 0.014738619789667614, 'RP|RB': 0.19361710294004758, 'RB|RP': 0.19361710294004758, 'CC': 0.014738619789667614, 'NNPS|VBZ': 0.19361710294004758, 'NNP|VBN': 0.19361710294004758, 'IN|RB': 0.19361710294004758, 'NNP|NP': 0.1729484915943809, 'JJR': 0.014738619789667614, '(': 0.014738619789667614, 'IN': 0.01123809195914933, 'NNP|VB': 0.19361710294004758, \"''\": 0.002667536654640362, 'DT': 0.04717300312502152, 'MD': 0.02031756076556939, 'NNS': 0.015991165706812818, ')': 0.07522837184309511, 'VBD|VBN': 0.19361710294004758, 'VBP|VBD': 0.19361710294004758, ':': 0.005392646042834114, 'NN|VB': 0.19361710294004758, 'PRP$R': 0.19361710294004758, 'VBP|TO': 0.19361710294004758, 'WDT': 0.018404083825900055, 'RB': 0.008834915012171969, 'VBP': 0.021213856491441908, 'RBR|JJR': 0.19361710294004758, 'PRP$': 0.014738619789667614, 'NN': 0.0939460249842542, 'WRB': 0.018404083825900055, 'VBN': 0.014738619789667614, '$': 0.1729484915943809}\n",
      "{'': 0.19361710294004758, 'EX': 0.19361710294004758, 'SYM': 0.19361710294004758, 'NNP|NPS': 0.19361710294004758, 'NNP': 0.19361710294004758, '.': 0.19361710294004758, 'PRP': 0.19361710294004758, 'VBG': 0.19361710294004758, 'CD|NN|NP': 0.19361710294004758, 'JJ|RB': 0.19361710294004758, 'NN|VBG': 0.19361710294004758, 'NNP|NN': 0.19361710294004758, 'JJ': 0.19361710294004758, 'IN|RP': 0.19361710294004758, 'MD|VB': 0.19361710294004758, 'NN|SYM': 0.19361710294004758, 'TO': 0.19361710294004758, 'NNPS': 0.19361710294004758, 'PDT': 0.19361710294004758, 'NN|JJ': 0.19361710294004758, 'VBZ': 0.19361710294004758, 'WP|MD|NP': 0.19361710294004758, 'UH': 0.19361710294004758, 'DT|RB': 0.19361710294004758, 'VBG|NN': 0.19361710294004758, 'VBD': 0.19361710294004758, ',': 0.19361710294004758, 'RP|IN': 0.19361710294004758, 'CD|NNS': 0.19361710294004758, 'JJ|VBN': 0.19361710294004758, 'VB': 0.19361710294004758, 'CD': 0.19361710294004758, 'RP': 0.19361710294004758, 'CD|NN': 0.19361710294004758, 'RBR|NN': 0.19361710294004758, 'FW': 0.19361710294004758, 'PRP|VBP': 0.19361710294004758, 'JJSS': 0.19361710294004758, 'RBR': 0.19361710294004758, 'WP$': 0.19361710294004758, 'RBS|JJS': 0.19361710294004758, '``': 0.19361710294004758, 'LS': 0.19361710294004758, 'JJ|NP': 0.19361710294004758, 'NN|NNS': 0.19361710294004758, 'POS': 0.19361710294004758, 'CD|NP': 0.19361710294004758, 'RBS': 0.19361710294004758, 'RB|VBG': 0.19361710294004758, 'NNP|CC|NP': 0.19361710294004758, 'WP': 0.19361710294004758, 'JJ|VBG': 0.19361710294004758, 'JJS': 0.19361710294004758, 'RP|RB': 0.19361710294004758, 'RB|RP': 0.19361710294004758, 'CC': 0.19361710294004758, 'NNPS|VBZ': 0.19361710294004758, 'NNP|VBN': 0.19361710294004758, 'IN|RB': 0.19361710294004758, 'NNP|NP': 0.19361710294004758, 'JJR': 0.19361710294004758, '(': 0.19361710294004758, 'IN': 0.19361710294004758, 'NNP|VB': 0.19361710294004758, \"''\": 0.19361710294004758, 'DT': 0.19361710294004758, 'MD': 0.19361710294004758, 'NNS': 0.19361710294004758, ')': 0.19361710294004758, 'VBD|VBN': 0.19361710294004758, 'VBP|VBD': 0.19361710294004758, ':': 0.19361710294004758, 'NN|VB': 0.19361710294004758, 'PRP$R': 0.19361710294004758, 'VBP|TO': 0.19361710294004758, 'WDT': 0.19361710294004758, 'RB': 0.19361710294004758, 'VBP': 0.19361710294004758, 'RBR|JJR': 0.19361710294004758, 'PRP$': 0.19361710294004758, 'NN': 0.19361710294004758, 'WRB': 0.19361710294004758, 'VBN': 0.19361710294004758, '$': 0.19361710294004758}\n"
     ]
    }
   ],
   "source": [
    "resut_vtb = viterbi(\n",
    "    ['My', 'name', 'is', 'Hoang'],\n",
    "    list(set(hmm_basic.train_li_tags)),\n",
    "    start_tag,\n",
    "    trans_prob,\n",
    "    emiss_prob\n",
    ")"
   ]
  },
  {
   "cell_type": "code",
   "execution_count": 174,
   "metadata": {},
   "outputs": [
    {
     "data": {
      "text/plain": [
       "['DT', '', '']"
      ]
     },
     "execution_count": 174,
     "metadata": {},
     "output_type": "execute_result"
    }
   ],
   "source": [
    "resut_vtb"
   ]
  },
  {
   "cell_type": "code",
   "execution_count": null,
   "metadata": {},
   "outputs": [],
   "source": [
    ".        self.train_li_words = list()\n",
    "        self.train_li_tags = list()\n",
    "        self.dict2_tag_follow_tag_ = dict()\n",
    "        self.dict2_word_tag = dict()\n",
    "        self.dict_word_tag_baseline = dict()"
   ]
  },
  {
   "cell_type": "code",
   "execution_count": 29,
   "metadata": {},
   "outputs": [],
   "source": []
  },
  {
   "cell_type": "code",
   "execution_count": null,
   "metadata": {},
   "outputs": [],
   "source": [
    "resut_vtb = viterbi(\n",
    "    hmm_basic.train_li_words,\n",
    "    hmm_basic.train_li_tags,\n",
    "    start_probability,\n",
    "    transition_probability,\n",
    "    emission_probability\n",
    ")"
   ]
  },
  {
   "cell_type": "code",
   "execution_count": 114,
   "metadata": {},
   "outputs": [
    {
     "name": "stdout",
     "output_type": "stream",
     "text": [
      "['Healthy', 'Healthy', 'Fever']\n"
     ]
    }
   ],
   "source": [
    "states = (\n",
    "    'Healthy',\n",
    "    'Fever'\n",
    ")\n",
    "observations = (\n",
    "    'normal',\n",
    "    'cold',\n",
    "    'dizzy'\n",
    ")\n",
    "\n",
    "start_probability = {\n",
    "    'Healthy': 0.6,\n",
    "    'Fever': 0.4\n",
    "}\n",
    "\n",
    "transition_probability = {\n",
    "    'Healthy': {'Healthy': 0.7, 'Fever': 0.3},\n",
    "    'Fever': {'Healthy': 0.4, 'Fever': 0.6},\n",
    "}\n",
    "\n",
    "emission_probability = {\n",
    "    'Healthy': {\n",
    "        'normal': 0.5,\n",
    "        'cold': 0.4,\n",
    "        'dizzy': 0.1\n",
    "    },\n",
    "    'Fever': {\n",
    "        'normal': 0.1,\n",
    "        'cold': 0.3,\n",
    "        'dizzy': 0.6\n",
    "    },\n",
    "}\n",
    "\n",
    "obs = [\n",
    "    'normal',\n",
    "    'cold',\n",
    "    'dizzy'\n",
    "]\n",
    "\n",
    "resut_vtb = viterbi(\n",
    "    obs,\n",
    "    states,\n",
    "    start_probability,\n",
    "    transition_probability,\n",
    "    emission_probability\n",
    ")\n",
    "\n",
    "print(resut_vtb)"
   ]
  },
  {
   "cell_type": "code",
   "execution_count": null,
   "metadata": {},
   "outputs": [],
   "source": []
  }
 ],
 "metadata": {
  "kernelspec": {
   "display_name": "Python 3",
   "language": "python",
   "name": "python3"
  },
  "language_info": {
   "codemirror_mode": {
    "name": "ipython",
    "version": 3
   },
   "file_extension": ".py",
   "mimetype": "text/x-python",
   "name": "python",
   "nbconvert_exporter": "python",
   "pygments_lexer": "ipython3",
   "version": "3.6.9"
  }
 },
 "nbformat": 4,
 "nbformat_minor": 2
}
